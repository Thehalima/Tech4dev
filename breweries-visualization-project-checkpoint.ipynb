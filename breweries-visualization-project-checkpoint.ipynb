{
 "cells": [
  {
   "cell_type": "code",
   "execution_count": 1,
   "metadata": {},
   "outputs": [],
   "source": [
    "import pandas as pd\n",
    "import numpy as np\n",
    "import matplotlib.pyplot as plt\n",
    "import seaborn as sns\n",
    "sns.set_style('darkgrid')"
   ]
  },
  {
   "cell_type": "code",
   "execution_count": 2,
   "metadata": {},
   "outputs": [],
   "source": [
    "breweries = pd.read_csv('International_Breweries.csv')"
   ]
  },
  {
   "cell_type": "code",
   "execution_count": 3,
   "metadata": {},
   "outputs": [
    {
     "data": {
      "text/html": [
       "<div>\n",
       "<style scoped>\n",
       "    .dataframe tbody tr th:only-of-type {\n",
       "        vertical-align: middle;\n",
       "    }\n",
       "\n",
       "    .dataframe tbody tr th {\n",
       "        vertical-align: top;\n",
       "    }\n",
       "\n",
       "    .dataframe thead th {\n",
       "        text-align: right;\n",
       "    }\n",
       "</style>\n",
       "<table border=\"1\" class=\"dataframe\">\n",
       "  <thead>\n",
       "    <tr style=\"text-align: right;\">\n",
       "      <th></th>\n",
       "      <th>SALES_ID</th>\n",
       "      <th>SALES_REP</th>\n",
       "      <th>EMAILS</th>\n",
       "      <th>BRANDS</th>\n",
       "      <th>PLANT_COST</th>\n",
       "      <th>UNIT_PRICE</th>\n",
       "      <th>QUANTITY</th>\n",
       "      <th>COST</th>\n",
       "      <th>PROFIT</th>\n",
       "      <th>COUNTRIES</th>\n",
       "      <th>REGION</th>\n",
       "      <th>MONTHS</th>\n",
       "      <th>YEARS</th>\n",
       "    </tr>\n",
       "  </thead>\n",
       "  <tbody>\n",
       "    <tr>\n",
       "      <th>0</th>\n",
       "      <td>10101</td>\n",
       "      <td>Jardine</td>\n",
       "      <td>jard@gmail.com</td>\n",
       "      <td>trophy</td>\n",
       "      <td>150</td>\n",
       "      <td>200</td>\n",
       "      <td>725</td>\n",
       "      <td>145000</td>\n",
       "      <td>36250</td>\n",
       "      <td>Ghana</td>\n",
       "      <td>Southeast</td>\n",
       "      <td>January</td>\n",
       "      <td>2019</td>\n",
       "    </tr>\n",
       "    <tr>\n",
       "      <th>1</th>\n",
       "      <td>10102</td>\n",
       "      <td>Gill</td>\n",
       "      <td>gillhell@uk.com</td>\n",
       "      <td>budweiser</td>\n",
       "      <td>250</td>\n",
       "      <td>500</td>\n",
       "      <td>815</td>\n",
       "      <td>407500</td>\n",
       "      <td>203750</td>\n",
       "      <td>Nigeria</td>\n",
       "      <td>west</td>\n",
       "      <td>February</td>\n",
       "      <td>2018</td>\n",
       "    </tr>\n",
       "    <tr>\n",
       "      <th>2</th>\n",
       "      <td>10103</td>\n",
       "      <td>Sorvino</td>\n",
       "      <td>sorvi2000@gmail.com</td>\n",
       "      <td>castle lite</td>\n",
       "      <td>180</td>\n",
       "      <td>450</td>\n",
       "      <td>937</td>\n",
       "      <td>421650</td>\n",
       "      <td>252990</td>\n",
       "      <td>Togo</td>\n",
       "      <td>southsouth</td>\n",
       "      <td>March</td>\n",
       "      <td>2018</td>\n",
       "    </tr>\n",
       "    <tr>\n",
       "      <th>3</th>\n",
       "      <td>10104</td>\n",
       "      <td>Jones</td>\n",
       "      <td>jone.ai@yahoo.com</td>\n",
       "      <td>eagle lager</td>\n",
       "      <td>170</td>\n",
       "      <td>250</td>\n",
       "      <td>765</td>\n",
       "      <td>191250</td>\n",
       "      <td>61200</td>\n",
       "      <td>Benin</td>\n",
       "      <td>northwest</td>\n",
       "      <td>April</td>\n",
       "      <td>2018</td>\n",
       "    </tr>\n",
       "    <tr>\n",
       "      <th>4</th>\n",
       "      <td>10105</td>\n",
       "      <td>Andrews</td>\n",
       "      <td>andy@gmail.com</td>\n",
       "      <td>hero</td>\n",
       "      <td>150</td>\n",
       "      <td>200</td>\n",
       "      <td>836</td>\n",
       "      <td>167200</td>\n",
       "      <td>41800</td>\n",
       "      <td>Senegal</td>\n",
       "      <td>northeast</td>\n",
       "      <td>May</td>\n",
       "      <td>2017</td>\n",
       "    </tr>\n",
       "    <tr>\n",
       "      <th>...</th>\n",
       "      <td>...</td>\n",
       "      <td>...</td>\n",
       "      <td>...</td>\n",
       "      <td>...</td>\n",
       "      <td>...</td>\n",
       "      <td>...</td>\n",
       "      <td>...</td>\n",
       "      <td>...</td>\n",
       "      <td>...</td>\n",
       "      <td>...</td>\n",
       "      <td>...</td>\n",
       "      <td>...</td>\n",
       "      <td>...</td>\n",
       "    </tr>\n",
       "    <tr>\n",
       "      <th>1042</th>\n",
       "      <td>11143</td>\n",
       "      <td>Jardine</td>\n",
       "      <td>jard@gmail.com</td>\n",
       "      <td>grand malt</td>\n",
       "      <td>90</td>\n",
       "      <td>150</td>\n",
       "      <td>962</td>\n",
       "      <td>144300</td>\n",
       "      <td>57720</td>\n",
       "      <td>Togo</td>\n",
       "      <td>northeast</td>\n",
       "      <td>November</td>\n",
       "      <td>2017</td>\n",
       "    </tr>\n",
       "    <tr>\n",
       "      <th>1043</th>\n",
       "      <td>11144</td>\n",
       "      <td>Jardine</td>\n",
       "      <td>jard@gmail.com</td>\n",
       "      <td>trophy</td>\n",
       "      <td>150</td>\n",
       "      <td>200</td>\n",
       "      <td>892</td>\n",
       "      <td>178400</td>\n",
       "      <td>44600</td>\n",
       "      <td>Benin</td>\n",
       "      <td>northcentral</td>\n",
       "      <td>December</td>\n",
       "      <td>2017</td>\n",
       "    </tr>\n",
       "    <tr>\n",
       "      <th>1044</th>\n",
       "      <td>11145</td>\n",
       "      <td>Andrews</td>\n",
       "      <td>andy@gmail.com</td>\n",
       "      <td>budweiser</td>\n",
       "      <td>250</td>\n",
       "      <td>500</td>\n",
       "      <td>816</td>\n",
       "      <td>408000</td>\n",
       "      <td>204000</td>\n",
       "      <td>Senegal</td>\n",
       "      <td>Southeast</td>\n",
       "      <td>January</td>\n",
       "      <td>2019</td>\n",
       "    </tr>\n",
       "    <tr>\n",
       "      <th>1045</th>\n",
       "      <td>11146</td>\n",
       "      <td>Jones</td>\n",
       "      <td>jone.ai@yahoo.com</td>\n",
       "      <td>castle lite</td>\n",
       "      <td>180</td>\n",
       "      <td>450</td>\n",
       "      <td>939</td>\n",
       "      <td>422550</td>\n",
       "      <td>253530</td>\n",
       "      <td>Ghana</td>\n",
       "      <td>west</td>\n",
       "      <td>February</td>\n",
       "      <td>2017</td>\n",
       "    </tr>\n",
       "    <tr>\n",
       "      <th>1046</th>\n",
       "      <td>11147</td>\n",
       "      <td>Morgan</td>\n",
       "      <td>morganny@gmail.com</td>\n",
       "      <td>eagle lager</td>\n",
       "      <td>170</td>\n",
       "      <td>250</td>\n",
       "      <td>935</td>\n",
       "      <td>233750</td>\n",
       "      <td>74800</td>\n",
       "      <td>Nigeria</td>\n",
       "      <td>southsouth</td>\n",
       "      <td>March</td>\n",
       "      <td>2019</td>\n",
       "    </tr>\n",
       "  </tbody>\n",
       "</table>\n",
       "<p>1047 rows × 13 columns</p>\n",
       "</div>"
      ],
      "text/plain": [
       "      SALES_ID SALES_REP               EMAILS       BRANDS  PLANT_COST  \\\n",
       "0        10101   Jardine       jard@gmail.com       trophy         150   \n",
       "1        10102      Gill      gillhell@uk.com    budweiser         250   \n",
       "2        10103   Sorvino  sorvi2000@gmail.com  castle lite         180   \n",
       "3        10104     Jones    jone.ai@yahoo.com  eagle lager         170   \n",
       "4        10105   Andrews       andy@gmail.com         hero         150   \n",
       "...        ...       ...                  ...          ...         ...   \n",
       "1042     11143   Jardine       jard@gmail.com   grand malt          90   \n",
       "1043     11144   Jardine       jard@gmail.com       trophy         150   \n",
       "1044     11145   Andrews       andy@gmail.com    budweiser         250   \n",
       "1045     11146     Jones    jone.ai@yahoo.com  castle lite         180   \n",
       "1046     11147    Morgan   morganny@gmail.com  eagle lager         170   \n",
       "\n",
       "      UNIT_PRICE  QUANTITY    COST  PROFIT COUNTRIES        REGION     MONTHS  \\\n",
       "0            200       725  145000   36250     Ghana      Southeast   January   \n",
       "1            500       815  407500  203750   Nigeria           west  February   \n",
       "2            450       937  421650  252990      Togo     southsouth     March   \n",
       "3            250       765  191250   61200     Benin      northwest     April   \n",
       "4            200       836  167200   41800   Senegal     northeast        May   \n",
       "...          ...       ...     ...     ...       ...            ...       ...   \n",
       "1042         150       962  144300   57720      Togo     northeast   November   \n",
       "1043         200       892  178400   44600     Benin  northcentral   December   \n",
       "1044         500       816  408000  204000   Senegal      Southeast   January   \n",
       "1045         450       939  422550  253530     Ghana           west  February   \n",
       "1046         250       935  233750   74800   Nigeria     southsouth     March   \n",
       "\n",
       "      YEARS  \n",
       "0      2019  \n",
       "1      2018  \n",
       "2      2018  \n",
       "3      2018  \n",
       "4      2017  \n",
       "...     ...  \n",
       "1042   2017  \n",
       "1043   2017  \n",
       "1044   2019  \n",
       "1045   2017  \n",
       "1046   2019  \n",
       "\n",
       "[1047 rows x 13 columns]"
      ]
     },
     "execution_count": 3,
     "metadata": {},
     "output_type": "execute_result"
    }
   ],
   "source": [
    "breweries"
   ]
  },
  {
   "cell_type": "code",
   "execution_count": 4,
   "metadata": {},
   "outputs": [
    {
     "data": {
      "text/plain": [
       "SALES_ID      0\n",
       "SALES_REP     0\n",
       "EMAILS        0\n",
       "BRANDS        0\n",
       "PLANT_COST    0\n",
       "UNIT_PRICE    0\n",
       "QUANTITY      0\n",
       "COST          0\n",
       "PROFIT        0\n",
       "COUNTRIES     0\n",
       "REGION        0\n",
       "MONTHS        0\n",
       "YEARS         0\n",
       "dtype: int64"
      ]
     },
     "execution_count": 4,
     "metadata": {},
     "output_type": "execute_result"
    }
   ],
   "source": [
    "#checking for null values\n",
    "breweries.isnull().sum()"
   ]
  },
  {
   "cell_type": "code",
   "execution_count": 5,
   "metadata": {},
   "outputs": [
    {
     "name": "stdout",
     "output_type": "stream",
     "text": [
      "<class 'pandas.core.frame.DataFrame'>\n",
      "RangeIndex: 1047 entries, 0 to 1046\n",
      "Data columns (total 13 columns):\n",
      " #   Column      Non-Null Count  Dtype \n",
      "---  ------      --------------  ----- \n",
      " 0   SALES_ID    1047 non-null   int64 \n",
      " 1   SALES_REP   1047 non-null   object\n",
      " 2   EMAILS      1047 non-null   object\n",
      " 3   BRANDS      1047 non-null   object\n",
      " 4   PLANT_COST  1047 non-null   int64 \n",
      " 5   UNIT_PRICE  1047 non-null   int64 \n",
      " 6   QUANTITY    1047 non-null   int64 \n",
      " 7   COST        1047 non-null   int64 \n",
      " 8   PROFIT      1047 non-null   int64 \n",
      " 9   COUNTRIES   1047 non-null   object\n",
      " 10  REGION      1047 non-null   object\n",
      " 11  MONTHS      1047 non-null   object\n",
      " 12  YEARS       1047 non-null   int64 \n",
      "dtypes: int64(7), object(6)\n",
      "memory usage: 106.5+ KB\n"
     ]
    }
   ],
   "source": [
    "breweries.info()"
   ]
  },
  {
   "cell_type": "code",
   "execution_count": 6,
   "metadata": {},
   "outputs": [
    {
     "data": {
      "text/plain": [
       "SALES_ID       int64\n",
       "SALES_REP     object\n",
       "EMAILS        object\n",
       "BRANDS        object\n",
       "PLANT_COST     int64\n",
       "UNIT_PRICE     int64\n",
       "QUANTITY       int64\n",
       "COST           int64\n",
       "PROFIT         int64\n",
       "COUNTRIES     object\n",
       "REGION        object\n",
       "MONTHS        object\n",
       "YEARS          int64\n",
       "dtype: object"
      ]
     },
     "execution_count": 6,
     "metadata": {},
     "output_type": "execute_result"
    }
   ],
   "source": [
    "#checking my datatypes\n",
    "breweries.dtypes"
   ]
  },
  {
   "cell_type": "code",
   "execution_count": 7,
   "metadata": {},
   "outputs": [
    {
     "data": {
      "text/plain": [
       "<bound method Series.unique of 0       10101\n",
       "1       10102\n",
       "2       10103\n",
       "3       10104\n",
       "4       10105\n",
       "        ...  \n",
       "1042    11143\n",
       "1043    11144\n",
       "1044    11145\n",
       "1045    11146\n",
       "1046    11147\n",
       "Name: SALES_ID, Length: 1047, dtype: int64>"
      ]
     },
     "execution_count": 7,
     "metadata": {},
     "output_type": "execute_result"
    }
   ],
   "source": [
    "breweries['SALES_ID'].unique"
   ]
  },
  {
   "cell_type": "code",
   "execution_count": 8,
   "metadata": {},
   "outputs": [
    {
     "data": {
      "text/plain": [
       "array(['Ghana', 'Nigeria', 'Togo', 'Benin', 'Senegal'], dtype=object)"
      ]
     },
     "execution_count": 8,
     "metadata": {},
     "output_type": "execute_result"
    }
   ],
   "source": [
    "breweries['COUNTRIES'].unique()"
   ]
  },
  {
   "cell_type": "code",
   "execution_count": 9,
   "metadata": {},
   "outputs": [
    {
     "data": {
      "text/plain": [
       "array(['trophy', 'budweiser', 'castle lite', 'eagle lager', 'hero',\n",
       "       'beta malt', 'grand malt'], dtype=object)"
      ]
     },
     "execution_count": 9,
     "metadata": {},
     "output_type": "execute_result"
    }
   ],
   "source": [
    "breweries['BRANDS'].unique()"
   ]
  },
  {
   "cell_type": "code",
   "execution_count": 10,
   "metadata": {},
   "outputs": [
    {
     "data": {
      "text/plain": [
       "array([2019, 2018, 2017], dtype=int64)"
      ]
     },
     "execution_count": 10,
     "metadata": {},
     "output_type": "execute_result"
    }
   ],
   "source": [
    "breweries['YEARS'].unique()"
   ]
  },
  {
   "cell_type": "code",
   "execution_count": 11,
   "metadata": {},
   "outputs": [
    {
     "data": {
      "text/plain": [
       "array(['Jardine', 'Gill', 'Sorvino', 'Jones', 'Andrews', 'Thompson',\n",
       "       'Morgan', 'Howard', 'Parent', 'Smith', 'Kivell'], dtype=object)"
      ]
     },
     "execution_count": 11,
     "metadata": {},
     "output_type": "execute_result"
    }
   ],
   "source": [
    "breweries['SALES_REP'].unique()"
   ]
  },
  {
   "cell_type": "markdown",
   "metadata": {},
   "source": [
    "#### Question 1\n",
    "which sales reps made the highest profit?"
   ]
  },
  {
   "cell_type": "code",
   "execution_count": 12,
   "metadata": {},
   "outputs": [
    {
     "data": {
      "text/html": [
       "<div>\n",
       "<style scoped>\n",
       "    .dataframe tbody tr th:only-of-type {\n",
       "        vertical-align: middle;\n",
       "    }\n",
       "\n",
       "    .dataframe tbody tr th {\n",
       "        vertical-align: top;\n",
       "    }\n",
       "\n",
       "    .dataframe thead th {\n",
       "        text-align: right;\n",
       "    }\n",
       "</style>\n",
       "<table border=\"1\" class=\"dataframe\">\n",
       "  <thead>\n",
       "    <tr style=\"text-align: right;\">\n",
       "      <th></th>\n",
       "      <th>SALES_REP</th>\n",
       "      <th>SALES_ID</th>\n",
       "      <th>PLANT_COST</th>\n",
       "      <th>UNIT_PRICE</th>\n",
       "      <th>QUANTITY</th>\n",
       "      <th>COST</th>\n",
       "      <th>PROFIT</th>\n",
       "      <th>YEARS</th>\n",
       "    </tr>\n",
       "  </thead>\n",
       "  <tbody>\n",
       "    <tr>\n",
       "      <th>0</th>\n",
       "      <td>Andrews</td>\n",
       "      <td>1137145</td>\n",
       "      <td>16360</td>\n",
       "      <td>28900</td>\n",
       "      <td>89898</td>\n",
       "      <td>24358700</td>\n",
       "      <td>10582770</td>\n",
       "      <td>215921</td>\n",
       "    </tr>\n",
       "    <tr>\n",
       "      <th>1</th>\n",
       "      <td>Gill</td>\n",
       "      <td>1253642</td>\n",
       "      <td>18150</td>\n",
       "      <td>32450</td>\n",
       "      <td>101289</td>\n",
       "      <td>27869550</td>\n",
       "      <td>12290130</td>\n",
       "      <td>238118</td>\n",
       "    </tr>\n",
       "    <tr>\n",
       "      <th>2</th>\n",
       "      <td>Howard</td>\n",
       "      <td>520499</td>\n",
       "      <td>7410</td>\n",
       "      <td>13200</td>\n",
       "      <td>41587</td>\n",
       "      <td>11159750</td>\n",
       "      <td>4887350</td>\n",
       "      <td>98874</td>\n",
       "    </tr>\n",
       "    <tr>\n",
       "      <th>3</th>\n",
       "      <td>Jardine</td>\n",
       "      <td>1444812</td>\n",
       "      <td>20730</td>\n",
       "      <td>36850</td>\n",
       "      <td>114743</td>\n",
       "      <td>30988250</td>\n",
       "      <td>13531650</td>\n",
       "      <td>274439</td>\n",
       "    </tr>\n",
       "    <tr>\n",
       "      <th>4</th>\n",
       "      <td>Jones</td>\n",
       "      <td>1975783</td>\n",
       "      <td>28560</td>\n",
       "      <td>50800</td>\n",
       "      <td>157880</td>\n",
       "      <td>42968100</td>\n",
       "      <td>18770830</td>\n",
       "      <td>375354</td>\n",
       "    </tr>\n",
       "    <tr>\n",
       "      <th>5</th>\n",
       "      <td>Kivell</td>\n",
       "      <td>733257</td>\n",
       "      <td>10510</td>\n",
       "      <td>18550</td>\n",
       "      <td>58255</td>\n",
       "      <td>15697850</td>\n",
       "      <td>6782700</td>\n",
       "      <td>139250</td>\n",
       "    </tr>\n",
       "    <tr>\n",
       "      <th>6</th>\n",
       "      <td>Morgan</td>\n",
       "      <td>839565</td>\n",
       "      <td>12110</td>\n",
       "      <td>21400</td>\n",
       "      <td>67563</td>\n",
       "      <td>18330550</td>\n",
       "      <td>7958080</td>\n",
       "      <td>159414</td>\n",
       "    </tr>\n",
       "    <tr>\n",
       "      <th>7</th>\n",
       "      <td>Parent</td>\n",
       "      <td>732768</td>\n",
       "      <td>10360</td>\n",
       "      <td>18400</td>\n",
       "      <td>59236</td>\n",
       "      <td>15792000</td>\n",
       "      <td>6902710</td>\n",
       "      <td>139245</td>\n",
       "    </tr>\n",
       "    <tr>\n",
       "      <th>8</th>\n",
       "      <td>Smith</td>\n",
       "      <td>732906</td>\n",
       "      <td>10600</td>\n",
       "      <td>18800</td>\n",
       "      <td>58946</td>\n",
       "      <td>16058600</td>\n",
       "      <td>6990170</td>\n",
       "      <td>139237</td>\n",
       "    </tr>\n",
       "    <tr>\n",
       "      <th>9</th>\n",
       "      <td>Sorvino</td>\n",
       "      <td>1136786</td>\n",
       "      <td>16410</td>\n",
       "      <td>29200</td>\n",
       "      <td>91513</td>\n",
       "      <td>24901850</td>\n",
       "      <td>10839700</td>\n",
       "      <td>215904</td>\n",
       "    </tr>\n",
       "    <tr>\n",
       "      <th>10</th>\n",
       "      <td>Thompson</td>\n",
       "      <td>616165</td>\n",
       "      <td>8980</td>\n",
       "      <td>15950</td>\n",
       "      <td>49812</td>\n",
       "      <td>13767450</td>\n",
       "      <td>6051330</td>\n",
       "      <td>117029</td>\n",
       "    </tr>\n",
       "  </tbody>\n",
       "</table>\n",
       "</div>"
      ],
      "text/plain": [
       "   SALES_REP  SALES_ID  PLANT_COST  UNIT_PRICE  QUANTITY      COST    PROFIT  \\\n",
       "0    Andrews   1137145       16360       28900     89898  24358700  10582770   \n",
       "1       Gill   1253642       18150       32450    101289  27869550  12290130   \n",
       "2     Howard    520499        7410       13200     41587  11159750   4887350   \n",
       "3    Jardine   1444812       20730       36850    114743  30988250  13531650   \n",
       "4      Jones   1975783       28560       50800    157880  42968100  18770830   \n",
       "5     Kivell    733257       10510       18550     58255  15697850   6782700   \n",
       "6     Morgan    839565       12110       21400     67563  18330550   7958080   \n",
       "7     Parent    732768       10360       18400     59236  15792000   6902710   \n",
       "8      Smith    732906       10600       18800     58946  16058600   6990170   \n",
       "9    Sorvino   1136786       16410       29200     91513  24901850  10839700   \n",
       "10  Thompson    616165        8980       15950     49812  13767450   6051330   \n",
       "\n",
       "     YEARS  \n",
       "0   215921  \n",
       "1   238118  \n",
       "2    98874  \n",
       "3   274439  \n",
       "4   375354  \n",
       "5   139250  \n",
       "6   159414  \n",
       "7   139245  \n",
       "8   139237  \n",
       "9   215904  \n",
       "10  117029  "
      ]
     },
     "execution_count": 12,
     "metadata": {},
     "output_type": "execute_result"
    }
   ],
   "source": [
    "sales_rep = breweries.groupby('SALES_REP', as_index =False).sum('PROFIT')\n",
    "sales_rep"
   ]
  },
  {
   "cell_type": "code",
   "execution_count": 13,
   "metadata": {},
   "outputs": [
    {
     "data": {
      "text/plain": [
       "Text(0.5, 1.0, 'profit by sales rep')"
      ]
     },
     "execution_count": 13,
     "metadata": {},
     "output_type": "execute_result"
    },
    {
     "data": {
      "image/png": "[encoded data removed]",
      "text/plain": [
       "<Figure size 864x432 with 1 Axes>"
      ]
     },
     "metadata": {},
     "output_type": "display_data"
    }
   ],
   "source": [
    "plt.figure(figsize=(12,6))\n",
    "sns.barplot(x='SALES_REP',y='PROFIT', data=sales_rep.sort_values('PROFIT', ascending=False), color='Brown')\n",
    "plt.xlabel('sales rep',fontweight='bold', size=16)\n",
    "plt.ylabel('profit',fontweight='bold', size=16)\n",
    "plt.title('profit by sales rep', fontweight='bold', fontsize=16)\n"
   ]
  },
  {
   "cell_type": "markdown",
   "metadata": {},
   "source": [
    "#### Question 2\n",
    "What is the beer brand and malt brand with the highest profit?"
   ]
  },
  {
   "cell_type": "code",
   "execution_count": 14,
   "metadata": {},
   "outputs": [
    {
     "ename": "ValueError",
     "evalue": "Array conditional must be same shape as self",
     "output_type": "error",
     "traceback": [
      "\u001b[1;31m---------------------------------------------------------------------------\u001b[0m",
      "\u001b[1;31mValueError\u001b[0m                                Traceback (most recent call last)",
      "\u001b[1;32m<ipython-input-14-b6819ba436ad>\u001b[0m in \u001b[0;36m<module>\u001b[1;34m\u001b[0m\n\u001b[1;32m----> 1\u001b[1;33m \u001b[0mbrand_profit\u001b[0m \u001b[1;33m=\u001b[0m \u001b[0mbreweries\u001b[0m\u001b[1;33m.\u001b[0m\u001b[0mgroupby\u001b[0m\u001b[1;33m(\u001b[0m\u001b[1;34m'BRANDS'\u001b[0m\u001b[1;33m,\u001b[0m \u001b[0mas_index\u001b[0m\u001b[1;33m=\u001b[0m\u001b[1;32mFalse\u001b[0m\u001b[1;33m)\u001b[0m\u001b[1;33m.\u001b[0m\u001b[0msum\u001b[0m\u001b[1;33m(\u001b[0m\u001b[1;34m'profit'\u001b[0m\u001b[1;33m)\u001b[0m\u001b[1;33m.\u001b[0m\u001b[0mwhere\u001b[0m\u001b[1;33m(\u001b[0m\u001b[1;34m'BRANDS'\u001b[0m\u001b[1;33m!=\u001b[0m\u001b[1;34m'grand malt'\u001b[0m\u001b[1;33m)\u001b[0m\u001b[1;33m\u001b[0m\u001b[1;33m\u001b[0m\u001b[0m\n\u001b[0m\u001b[0;32m      2\u001b[0m \u001b[0mbrand_profit\u001b[0m\u001b[1;33m\u001b[0m\u001b[1;33m\u001b[0m\u001b[0m\n",
      "\u001b[1;32m~\\anaconda3\\lib\\site-packages\\pandas\\core\\generic.py\u001b[0m in \u001b[0;36mwhere\u001b[1;34m(self, cond, other, inplace, axis, level, errors, try_cast)\u001b[0m\n\u001b[0;32m   9002\u001b[0m         \"\"\"\n\u001b[0;32m   9003\u001b[0m         \u001b[0mother\u001b[0m \u001b[1;33m=\u001b[0m \u001b[0mcom\u001b[0m\u001b[1;33m.\u001b[0m\u001b[0mapply_if_callable\u001b[0m\u001b[1;33m(\u001b[0m\u001b[0mother\u001b[0m\u001b[1;33m,\u001b[0m \u001b[0mself\u001b[0m\u001b[1;33m)\u001b[0m\u001b[1;33m\u001b[0m\u001b[1;33m\u001b[0m\u001b[0m\n\u001b[1;32m-> 9004\u001b[1;33m         return self._where(\n\u001b[0m\u001b[0;32m   9005\u001b[0m             \u001b[0mcond\u001b[0m\u001b[1;33m,\u001b[0m \u001b[0mother\u001b[0m\u001b[1;33m,\u001b[0m \u001b[0minplace\u001b[0m\u001b[1;33m,\u001b[0m \u001b[0maxis\u001b[0m\u001b[1;33m,\u001b[0m \u001b[0mlevel\u001b[0m\u001b[1;33m,\u001b[0m \u001b[0merrors\u001b[0m\u001b[1;33m=\u001b[0m\u001b[0merrors\u001b[0m\u001b[1;33m,\u001b[0m \u001b[0mtry_cast\u001b[0m\u001b[1;33m=\u001b[0m\u001b[0mtry_cast\u001b[0m\u001b[1;33m\u001b[0m\u001b[1;33m\u001b[0m\u001b[0m\n\u001b[0;32m   9006\u001b[0m         )\n",
      "\u001b[1;32m~\\anaconda3\\lib\\site-packages\\pandas\\core\\generic.py\u001b[0m in \u001b[0;36m_where\u001b[1;34m(self, cond, other, inplace, axis, level, errors, try_cast)\u001b[0m\n\u001b[0;32m   8747\u001b[0m                 \u001b[0mcond\u001b[0m \u001b[1;33m=\u001b[0m \u001b[0mnp\u001b[0m\u001b[1;33m.\u001b[0m\u001b[0masanyarray\u001b[0m\u001b[1;33m(\u001b[0m\u001b[0mcond\u001b[0m\u001b[1;33m)\u001b[0m\u001b[1;33m\u001b[0m\u001b[1;33m\u001b[0m\u001b[0m\n\u001b[0;32m   8748\u001b[0m             \u001b[1;32mif\u001b[0m \u001b[0mcond\u001b[0m\u001b[1;33m.\u001b[0m\u001b[0mshape\u001b[0m \u001b[1;33m!=\u001b[0m \u001b[0mself\u001b[0m\u001b[1;33m.\u001b[0m\u001b[0mshape\u001b[0m\u001b[1;33m:\u001b[0m\u001b[1;33m\u001b[0m\u001b[1;33m\u001b[0m\u001b[0m\n\u001b[1;32m-> 8749\u001b[1;33m                 \u001b[1;32mraise\u001b[0m \u001b[0mValueError\u001b[0m\u001b[1;33m(\u001b[0m\u001b[1;34m\"Array conditional must be same shape as self\"\u001b[0m\u001b[1;33m)\u001b[0m\u001b[1;33m\u001b[0m\u001b[1;33m\u001b[0m\u001b[0m\n\u001b[0m\u001b[0;32m   8750\u001b[0m             \u001b[0mcond\u001b[0m \u001b[1;33m=\u001b[0m \u001b[0mself\u001b[0m\u001b[1;33m.\u001b[0m\u001b[0m_constructor\u001b[0m\u001b[1;33m(\u001b[0m\u001b[0mcond\u001b[0m\u001b[1;33m,\u001b[0m \u001b[1;33m**\u001b[0m\u001b[0mself\u001b[0m\u001b[1;33m.\u001b[0m\u001b[0m_construct_axes_dict\u001b[0m\u001b[1;33m(\u001b[0m\u001b[1;33m)\u001b[0m\u001b[1;33m)\u001b[0m\u001b[1;33m\u001b[0m\u001b[1;33m\u001b[0m\u001b[0m\n\u001b[0;32m   8751\u001b[0m \u001b[1;33m\u001b[0m\u001b[0m\n",
      "\u001b[1;31mValueError\u001b[0m: Array conditional must be same shape as self"
     ]
    }
   ],
   "source": [
    "brand_profit = breweries.groupby('BRANDS', as_index=False).sum('profit').where('BRANDS'!='grand malt')\n",
    "brand_profit\n"
   ]
  },
  {
   "cell_type": "code",
   "execution_count": 15,
   "metadata": {},
   "outputs": [
    {
     "data": {
      "text/html": [
       "<div>\n",
       "<style scoped>\n",
       "    .dataframe tbody tr th:only-of-type {\n",
       "        vertical-align: middle;\n",
       "    }\n",
       "\n",
       "    .dataframe tbody tr th {\n",
       "        vertical-align: top;\n",
       "    }\n",
       "\n",
       "    .dataframe thead th {\n",
       "        text-align: right;\n",
       "    }\n",
       "</style>\n",
       "<table border=\"1\" class=\"dataframe\">\n",
       "  <thead>\n",
       "    <tr style=\"text-align: right;\">\n",
       "      <th></th>\n",
       "      <th>YEARS</th>\n",
       "      <th>SALES_ID</th>\n",
       "      <th>PLANT_COST</th>\n",
       "      <th>UNIT_PRICE</th>\n",
       "      <th>QUANTITY</th>\n",
       "      <th>COST</th>\n",
       "      <th>PROFIT</th>\n",
       "    </tr>\n",
       "  </thead>\n",
       "  <tbody>\n",
       "    <tr>\n",
       "      <th>0</th>\n",
       "      <td>2017</td>\n",
       "      <td>3974744</td>\n",
       "      <td>57260</td>\n",
       "      <td>102650</td>\n",
       "      <td>317563</td>\n",
       "      <td>87081100</td>\n",
       "      <td>38503320</td>\n",
       "    </tr>\n",
       "    <tr>\n",
       "      <th>1</th>\n",
       "      <td>2018</td>\n",
       "      <td>3822112</td>\n",
       "      <td>55830</td>\n",
       "      <td>99600</td>\n",
       "      <td>305409</td>\n",
       "      <td>84486200</td>\n",
       "      <td>37063850</td>\n",
       "    </tr>\n",
       "    <tr>\n",
       "      <th>2</th>\n",
       "      <td>2019</td>\n",
       "      <td>3326472</td>\n",
       "      <td>47090</td>\n",
       "      <td>82250</td>\n",
       "      <td>267750</td>\n",
       "      <td>70325350</td>\n",
       "      <td>30020250</td>\n",
       "    </tr>\n",
       "  </tbody>\n",
       "</table>\n",
       "</div>"
      ],
      "text/plain": [
       "   YEARS  SALES_ID  PLANT_COST  UNIT_PRICE  QUANTITY      COST    PROFIT\n",
       "0   2017   3974744       57260      102650    317563  87081100  38503320\n",
       "1   2018   3822112       55830       99600    305409  84486200  37063850\n",
       "2   2019   3326472       47090       82250    267750  70325350  30020250"
      ]
     },
     "execution_count": 15,
     "metadata": {},
     "output_type": "execute_result"
    }
   ],
   "source": [
    "yearly_profit = breweries.groupby('YEARS', as_index=False).sum('PROFIT')\n",
    "yearly_profit "
   ]
  },
  {
   "cell_type": "code",
   "execution_count": 16,
   "metadata": {},
   "outputs": [
    {
     "data": {
      "text/plain": [
       "Text(0.5, 1.0, 'yearly profit')"
      ]
     },
     "execution_count": 16,
     "metadata": {},
     "output_type": "execute_result"
    },
    {
     "data": {
      "image/png": "[encoded data removed]",
      "text/plain": [
       "<Figure size 432x288 with 1 Axes>"
      ]
     },
     "metadata": {},
     "output_type": "display_data"
    }
   ],
   "source": [
    "yp = sns.barplot(x='YEARS', y='PROFIT', data=yearly_profit, palette='magma')\n",
    "plt.xlabel('Years', fontweight='bold', fontsize=16)\n",
    "plt.ylabel('Profit', fontweight='bold', fontsize=16)\n",
    "plt.title('yearly profit', fontweight='bold', fontsize=16)\n",
    "#for i in yp.containers:\n",
    " #   yp.bar_label(i)"
   ]
  },
  {
   "cell_type": "markdown",
   "metadata": {},
   "source": [
    "####Country with the highest consumption of beer"
   ]
  },
  {
   "cell_type": "code",
   "execution_count": 17,
   "metadata": {},
   "outputs": [
    {
     "data": {
      "text/html": [
       "<div>\n",
       "<style scoped>\n",
       "    .dataframe tbody tr th:only-of-type {\n",
       "        vertical-align: middle;\n",
       "    }\n",
       "\n",
       "    .dataframe tbody tr th {\n",
       "        vertical-align: top;\n",
       "    }\n",
       "\n",
       "    .dataframe thead th {\n",
       "        text-align: right;\n",
       "    }\n",
       "</style>\n",
       "<table border=\"1\" class=\"dataframe\">\n",
       "  <thead>\n",
       "    <tr style=\"text-align: right;\">\n",
       "      <th></th>\n",
       "      <th>COUNTRIES</th>\n",
       "      <th>SALES_ID</th>\n",
       "      <th>PLANT_COST</th>\n",
       "      <th>UNIT_PRICE</th>\n",
       "      <th>QUANTITY</th>\n",
       "      <th>COST</th>\n",
       "      <th>PROFIT</th>\n",
       "      <th>YEARS</th>\n",
       "    </tr>\n",
       "  </thead>\n",
       "  <tbody>\n",
       "    <tr>\n",
       "      <th>4</th>\n",
       "      <td>Togo</td>\n",
       "      <td>2220207</td>\n",
       "      <td>31950</td>\n",
       "      <td>56800</td>\n",
       "      <td>175908</td>\n",
       "      <td>47591750</td>\n",
       "      <td>20751000</td>\n",
       "      <td>421746</td>\n",
       "    </tr>\n",
       "    <tr>\n",
       "      <th>0</th>\n",
       "      <td>Benin</td>\n",
       "      <td>2220416</td>\n",
       "      <td>32020</td>\n",
       "      <td>56850</td>\n",
       "      <td>176324</td>\n",
       "      <td>48021700</td>\n",
       "      <td>20961970</td>\n",
       "      <td>421743</td>\n",
       "    </tr>\n",
       "    <tr>\n",
       "      <th>1</th>\n",
       "      <td>Ghana</td>\n",
       "      <td>2230935</td>\n",
       "      <td>32100</td>\n",
       "      <td>57000</td>\n",
       "      <td>178255</td>\n",
       "      <td>48168500</td>\n",
       "      <td>21013050</td>\n",
       "      <td>423788</td>\n",
       "    </tr>\n",
       "    <tr>\n",
       "      <th>2</th>\n",
       "      <td>Nigeria</td>\n",
       "      <td>2231145</td>\n",
       "      <td>32100</td>\n",
       "      <td>57000</td>\n",
       "      <td>179307</td>\n",
       "      <td>48918800</td>\n",
       "      <td>21376210</td>\n",
       "      <td>423757</td>\n",
       "    </tr>\n",
       "    <tr>\n",
       "      <th>3</th>\n",
       "      <td>Senegal</td>\n",
       "      <td>2220625</td>\n",
       "      <td>32010</td>\n",
       "      <td>56850</td>\n",
       "      <td>180928</td>\n",
       "      <td>49191900</td>\n",
       "      <td>21485190</td>\n",
       "      <td>421751</td>\n",
       "    </tr>\n",
       "  </tbody>\n",
       "</table>\n",
       "</div>"
      ],
      "text/plain": [
       "  COUNTRIES  SALES_ID  PLANT_COST  UNIT_PRICE  QUANTITY      COST    PROFIT  \\\n",
       "4      Togo   2220207       31950       56800    175908  47591750  20751000   \n",
       "0     Benin   2220416       32020       56850    176324  48021700  20961970   \n",
       "1     Ghana   2230935       32100       57000    178255  48168500  21013050   \n",
       "2   Nigeria   2231145       32100       57000    179307  48918800  21376210   \n",
       "3   Senegal   2220625       32010       56850    180928  49191900  21485190   \n",
       "\n",
       "    YEARS  \n",
       "4  421746  \n",
       "0  421743  \n",
       "1  423788  \n",
       "2  423757  \n",
       "3  421751  "
      ]
     },
     "execution_count": 17,
     "metadata": {},
     "output_type": "execute_result"
    }
   ],
   "source": [
    "a =breweries.groupby('COUNTRIES', as_index=False).sum('PROFIT').sort_values('PROFIT')\n",
    "a"
   ]
  },
  {
   "cell_type": "code",
   "execution_count": 18,
   "metadata": {},
   "outputs": [
    {
     "data": {
      "text/plain": [
       "<AxesSubplot:xlabel='COUNTRIES', ylabel='QUANTITY'>"
      ]
     },
     "execution_count": 18,
     "metadata": {},
     "output_type": "execute_result"
    },
    {
     "data": {
      "image/png": "[encoded data removed]",
      "text/plain": [
       "<Figure size 432x288 with 1 Axes>"
      ]
     },
     "metadata": {},
     "output_type": "display_data"
    }
   ],
   "source": [
    "sns.barplot(x='COUNTRIES', y='QUANTITY', data=a)"
   ]
  },
  {
   "cell_type": "code",
   "execution_count": 19,
   "metadata": {},
   "outputs": [],
   "source": [
    "order = ['January', 'February','March','April','May','June','July','August','September','October','November','December']"
   ]
  },
  {
   "cell_type": "code",
   "execution_count": 20,
   "metadata": {},
   "outputs": [
    {
     "data": {
      "text/html": [
       "<div>\n",
       "<style scoped>\n",
       "    .dataframe tbody tr th:only-of-type {\n",
       "        vertical-align: middle;\n",
       "    }\n",
       "\n",
       "    .dataframe tbody tr th {\n",
       "        vertical-align: top;\n",
       "    }\n",
       "\n",
       "    .dataframe thead th {\n",
       "        text-align: right;\n",
       "    }\n",
       "</style>\n",
       "<table border=\"1\" class=\"dataframe\">\n",
       "  <thead>\n",
       "    <tr style=\"text-align: right;\">\n",
       "      <th></th>\n",
       "      <th>MONTHS</th>\n",
       "      <th>SALES_ID</th>\n",
       "      <th>PLANT_COST</th>\n",
       "      <th>UNIT_PRICE</th>\n",
       "      <th>QUANTITY</th>\n",
       "      <th>COST</th>\n",
       "      <th>PROFIT</th>\n",
       "      <th>YEARS</th>\n",
       "    </tr>\n",
       "  </thead>\n",
       "  <tbody>\n",
       "    <tr>\n",
       "      <th>0</th>\n",
       "      <td>April</td>\n",
       "      <td>923940</td>\n",
       "      <td>13350</td>\n",
       "      <td>23700</td>\n",
       "      <td>72562</td>\n",
       "      <td>19677450</td>\n",
       "      <td>8573830</td>\n",
       "      <td>175560</td>\n",
       "    </tr>\n",
       "    <tr>\n",
       "      <th>1</th>\n",
       "      <td>August</td>\n",
       "      <td>924288</td>\n",
       "      <td>13240</td>\n",
       "      <td>23400</td>\n",
       "      <td>74908</td>\n",
       "      <td>20094800</td>\n",
       "      <td>8730940</td>\n",
       "      <td>175558</td>\n",
       "    </tr>\n",
       "    <tr>\n",
       "      <th>2</th>\n",
       "      <td>December</td>\n",
       "      <td>924636</td>\n",
       "      <td>13320</td>\n",
       "      <td>23650</td>\n",
       "      <td>73538</td>\n",
       "      <td>20085800</td>\n",
       "      <td>8787290</td>\n",
       "      <td>175557</td>\n",
       "    </tr>\n",
       "    <tr>\n",
       "      <th>3</th>\n",
       "      <td>February</td>\n",
       "      <td>934912</td>\n",
       "      <td>13510</td>\n",
       "      <td>24100</td>\n",
       "      <td>74847</td>\n",
       "      <td>20531850</td>\n",
       "      <td>9028450</td>\n",
       "      <td>177579</td>\n",
       "    </tr>\n",
       "    <tr>\n",
       "      <th>4</th>\n",
       "      <td>January</td>\n",
       "      <td>934824</td>\n",
       "      <td>13490</td>\n",
       "      <td>23900</td>\n",
       "      <td>74373</td>\n",
       "      <td>20129050</td>\n",
       "      <td>8722990</td>\n",
       "      <td>177583</td>\n",
       "    </tr>\n",
       "    <tr>\n",
       "      <th>5</th>\n",
       "      <td>July</td>\n",
       "      <td>924201</td>\n",
       "      <td>13260</td>\n",
       "      <td>23600</td>\n",
       "      <td>74591</td>\n",
       "      <td>20107350</td>\n",
       "      <td>8787010</td>\n",
       "      <td>175560</td>\n",
       "    </tr>\n",
       "    <tr>\n",
       "      <th>6</th>\n",
       "      <td>June</td>\n",
       "      <td>924114</td>\n",
       "      <td>13340</td>\n",
       "      <td>23700</td>\n",
       "      <td>73637</td>\n",
       "      <td>20152500</td>\n",
       "      <td>8828440</td>\n",
       "      <td>175571</td>\n",
       "    </tr>\n",
       "    <tr>\n",
       "      <th>7</th>\n",
       "      <td>March</td>\n",
       "      <td>935000</td>\n",
       "      <td>13420</td>\n",
       "      <td>23850</td>\n",
       "      <td>76206</td>\n",
       "      <td>20746800</td>\n",
       "      <td>9066130</td>\n",
       "      <td>177583</td>\n",
       "    </tr>\n",
       "    <tr>\n",
       "      <th>8</th>\n",
       "      <td>May</td>\n",
       "      <td>924027</td>\n",
       "      <td>13320</td>\n",
       "      <td>23650</td>\n",
       "      <td>74089</td>\n",
       "      <td>20128500</td>\n",
       "      <td>8772250</td>\n",
       "      <td>175559</td>\n",
       "    </tr>\n",
       "    <tr>\n",
       "      <th>9</th>\n",
       "      <td>November</td>\n",
       "      <td>924549</td>\n",
       "      <td>13350</td>\n",
       "      <td>23700</td>\n",
       "      <td>74120</td>\n",
       "      <td>20207200</td>\n",
       "      <td>8820330</td>\n",
       "      <td>175566</td>\n",
       "    </tr>\n",
       "    <tr>\n",
       "      <th>10</th>\n",
       "      <td>October</td>\n",
       "      <td>924462</td>\n",
       "      <td>13250</td>\n",
       "      <td>23600</td>\n",
       "      <td>73951</td>\n",
       "      <td>20021650</td>\n",
       "      <td>8767100</td>\n",
       "      <td>175550</td>\n",
       "    </tr>\n",
       "    <tr>\n",
       "      <th>11</th>\n",
       "      <td>September</td>\n",
       "      <td>924375</td>\n",
       "      <td>13330</td>\n",
       "      <td>23650</td>\n",
       "      <td>73900</td>\n",
       "      <td>20009700</td>\n",
       "      <td>8702660</td>\n",
       "      <td>175559</td>\n",
       "    </tr>\n",
       "  </tbody>\n",
       "</table>\n",
       "</div>"
      ],
      "text/plain": [
       "       MONTHS  SALES_ID  PLANT_COST  UNIT_PRICE  QUANTITY      COST   PROFIT  \\\n",
       "0       April    923940       13350       23700     72562  19677450  8573830   \n",
       "1      August    924288       13240       23400     74908  20094800  8730940   \n",
       "2    December    924636       13320       23650     73538  20085800  8787290   \n",
       "3    February    934912       13510       24100     74847  20531850  9028450   \n",
       "4     January    934824       13490       23900     74373  20129050  8722990   \n",
       "5        July    924201       13260       23600     74591  20107350  8787010   \n",
       "6        June    924114       13340       23700     73637  20152500  8828440   \n",
       "7       March    935000       13420       23850     76206  20746800  9066130   \n",
       "8         May    924027       13320       23650     74089  20128500  8772250   \n",
       "9    November    924549       13350       23700     74120  20207200  8820330   \n",
       "10    October    924462       13250       23600     73951  20021650  8767100   \n",
       "11  September    924375       13330       23650     73900  20009700  8702660   \n",
       "\n",
       "     YEARS  \n",
       "0   175560  \n",
       "1   175558  \n",
       "2   175557  \n",
       "3   177579  \n",
       "4   177583  \n",
       "5   175560  \n",
       "6   175571  \n",
       "7   177583  \n",
       "8   175559  \n",
       "9   175566  \n",
       "10  175550  \n",
       "11  175559  "
      ]
     },
     "execution_count": 20,
     "metadata": {},
     "output_type": "execute_result"
    }
   ],
   "source": [
    "months= breweries.groupby('MONTHS', as_index=False).sum('PROFIT')\n",
    "months"
   ]
  },
  {
   "cell_type": "code",
   "execution_count": 22,
   "metadata": {},
   "outputs": [
    {
     "data": {
      "image/png": "[encoded data removed]",
      "text/plain": [
       "<Figure size 864x432 with 1 Axes>"
      ]
     },
     "metadata": {},
     "output_type": "display_data"
    }
   ],
   "source": [
    "plt.figure(figsize=(12,6))\n",
    "sns.barplot(x='MONTHS', y='PROFIT',order=order, data=months, palette='Accent')\n",
    "plt.title('monthly profit', fontsize=15)\n",
    "plt.xlabel('Months', fontsize=15)\n",
    "plt.ylabel('Profit',fontsize=15)\n",
    "plt.show()"
   ]
  },
  {
   "cell_type": "code",
   "execution_count": null,
   "metadata": {},
   "outputs": [],
   "source": []
  }
 ],
 "metadata": {
  "kernelspec": {
   "display_name": "Python 3",
   "language": "python",
   "name": "python3"
  },
  "language_info": {
   "codemirror_mode": {
    "name": "ipython",
    "version": 3
   },
   "file_extension": ".py",
   "mimetype": "text/x-python",
   "name": "python",
   "nbconvert_exporter": "python",
   "pygments_lexer": "ipython3",
   "version": "3.8.5"
  }
 },
 "nbformat": 4,
 "nbformat_minor": 4
}
